{
 "cells": [
  {
   "cell_type": "markdown",
   "id": "cea24920",
   "metadata": {},
   "source": [
    "# Objects and Classes in Python"
   ]
  },
  {
   "cell_type": "markdown",
   "id": "6d41fd3d",
   "metadata": {},
   "source": [
    "Python is an OOP language. In object oriented programming, you write classes that represent real-world things and situations, and you create objects based on these classes. When you write a class, you define the general behaviour that a whole category of objects can have. \n",
    "\n",
    "\n",
    "In Python everything is an object, and each object in Python belongs to some class. \n",
    "It is very important to understand how to define classes, and how to create and operate with objects.\n"
   ]
  },
  {
   "cell_type": "code",
   "execution_count": 25,
   "id": "b714ab1f",
   "metadata": {},
   "outputs": [
    {
     "name": "stdout",
     "output_type": "stream",
     "text": [
      "<class 'int'>\n"
     ]
    }
   ],
   "source": [
    "a = 10\n",
    "print(type(a))"
   ]
  },
  {
   "cell_type": "code",
   "execution_count": 24,
   "id": "1718f6ee",
   "metadata": {},
   "outputs": [
    {
     "name": "stdout",
     "output_type": "stream",
     "text": [
      "<class '__main__.Useless'>\n"
     ]
    },
    {
     "data": {
      "text/plain": [
       "['__class__',\n",
       " '__delattr__',\n",
       " '__dict__',\n",
       " '__dir__',\n",
       " '__doc__',\n",
       " '__eq__',\n",
       " '__format__',\n",
       " '__ge__',\n",
       " '__getattribute__',\n",
       " '__gt__',\n",
       " '__hash__',\n",
       " '__init__',\n",
       " '__init_subclass__',\n",
       " '__le__',\n",
       " '__lt__',\n",
       " '__module__',\n",
       " '__ne__',\n",
       " '__new__',\n",
       " '__reduce__',\n",
       " '__reduce_ex__',\n",
       " '__repr__',\n",
       " '__setattr__',\n",
       " '__sizeof__',\n",
       " '__str__',\n",
       " '__subclasshook__',\n",
       " '__weakref__']"
      ]
     },
     "execution_count": 24,
     "metadata": {},
     "output_type": "execute_result"
    }
   ],
   "source": [
    "class Useless(object):\n",
    "    pass\n",
    "\n",
    "useless_instance = Useless()\n",
    "print(f\"{type(useless_instance)}\")\n",
    "\n",
    "isinstance(useless_instance, object)\n",
    "\n",
    "dir(useless_instance)"
   ]
  },
  {
   "cell_type": "markdown",
   "id": "eb99b455",
   "metadata": {},
   "source": [
    "# Introduction to Classes in Python"
   ]
  },
  {
   "cell_type": "markdown",
   "id": "dd8790c0",
   "metadata": {},
   "source": [
    "## 1. Creating Classes"
   ]
  },
  {
   "cell_type": "code",
   "execution_count": 15,
   "id": "ac435c4d",
   "metadata": {},
   "outputs": [],
   "source": [
    "class Dog:\n",
    "    \n",
    "    def __init__(self, name, age_in_years, owner_name, registration_no=None):\n",
    "        self.name = name\n",
    "        self.age = age_in_years\n",
    "        self.owner = owner_name\n",
    "        self.registration_number = registration_no\n",
    "        \n",
    "    def is_registered(self):\n",
    "        return bool(self.registration_number)\n",
    "        \n",
    "    def add_registration(self, number):\n",
    "        self.registration_number = number\n",
    "        \n",
    "    def say(self):\n",
    "        return \"Woof! Woof!\"\n",
    "        \n",
    "    def bark(self):\n",
    "        print(f\"{self.name} is barking.\")\n",
    "    \n",
    "    def wag_tail(self):\n",
    "        print(f\"{self.name} is wagging its tail.\")\n",
    "        \n",
    "    def sit(self):\n",
    "        print(f\"{self.name} is sitting.\")\n",
    "        \n",
    "    def see_owner(self):\n",
    "        print(f\"{self.name} is jumping and wagging its tail.\")"
   ]
  },
  {
   "cell_type": "markdown",
   "id": "e68cb2dd",
   "metadata": {},
   "source": [
    "## 2. Using Classes in Code"
   ]
  },
  {
   "cell_type": "code",
   "execution_count": 21,
   "id": "22f1f0f1",
   "metadata": {},
   "outputs": [
    {
     "name": "stdout",
     "output_type": "stream",
     "text": [
      "<class '__main__.Dog'>\n",
      "Dog name: Rocky\n",
      "Dog age: 3\n",
      "Dog owner: Alex\n",
      "Dog reg. no: None\n",
      "Rocky is barking.\n",
      "Rocky is jumping and wagging its tail.\n"
     ]
    }
   ],
   "source": [
    "# Create instance of the class Dog\n",
    "rocky = Dog(\"Rocky\", 3, \"Alex\")\n",
    "print(f\"{type(rocky)}\")\n",
    "\n",
    "# Accessing attributes\n",
    "print(\"Dog name:\", rocky.name)\n",
    "print(\"Dog age:\", rocky.age)\n",
    "print(\"Dog owner:\", rocky.owner)\n",
    "print(\"Dog reg. no:\", rocky.registration_number)\n",
    "\n",
    "# Calling instance methods\n",
    "rocky.bark()\n",
    "rocky.see_owner()"
   ]
  },
  {
   "cell_type": "markdown",
   "id": "f37b3071",
   "metadata": {},
   "source": [
    "## Exercise 1:\n",
    "\n",
    "a) Use the Dog class that we defined above, and create a dog named Ringo, 7 years old. Ringos's registration number is DOG123. Ringo's owner name is Bryan. \n",
    "\n",
    "b) Is Ringo a registered dog? Call corresponding method.\n",
    "\n",
    "c) What is Ringo's registration number? Call corresponging attribute.\n",
    "\n",
    "d) What Ringo does when it sees Bryan? Call corresponding method."
   ]
  },
  {
   "cell_type": "markdown",
   "id": "09fff390",
   "metadata": {},
   "source": [
    "## Exercise 2: Write Class Cat\n",
    "\n",
    "Write a class Cat, create an instance of the class and test its methods and attributes. The Cat class needs to have the same attributes as the Dog class.\n",
    "\n",
    "Implement the following methods for the class Cat:\n",
    "\n",
    "- say()\n",
    "- sit()\n",
    "- play()\n",
    "- see_owner()\n",
    "\n",
    "Write a small program testing the class Cat."
   ]
  },
  {
   "cell_type": "markdown",
   "id": "64be7e6b",
   "metadata": {},
   "source": [
    "## Exercise 2: \n",
    "\n",
    "Solve a Day 4 problem from the HackerRank 30 days of code"
   ]
  },
  {
   "cell_type": "markdown",
   "id": "ce0aafb0",
   "metadata": {},
   "source": [
    "## 3.1 User Class (class work):\n",
    "\n",
    "Make a class called User. Create two attributes called *first_name* and *last_name*, and then create several other attributes that are typically stored in a user profile. Make a method called *describe_user()* that prints a summary of the user’s information. Make another method called *greet_user()* that prints a personalized greeting to the user.\n",
    "\n",
    "Create two or three instances representing different users, and call both methods for each user.\n",
    "\n",
    "## 3.2 Attributes Modifications (class work)\n",
    "\n",
    "Add an attribute *login_attempts* to the User class.\n",
    "\n",
    "Create a method *login()* that increments login_attempts by 1 on every call.\n",
    "\n",
    "Create method *reset_login_attempts()* to zero."
   ]
  },
  {
   "cell_type": "markdown",
   "id": "fac5160e",
   "metadata": {},
   "source": [
    "## Exercise 3:"
   ]
  },
  {
   "cell_type": "markdown",
   "id": "11e32015",
   "metadata": {},
   "source": [
    "(a)\n",
    "Make a class called Restaurant. The **__init__()** method for Restaurant should store two attributes: a *restaurant_name* and a *cuisine_type*. Make a method called *describe_restaurant()* that prints these two pieces of information, and a method called *open_restaurant()* that prints a message indicating that the restaurant is open.\n",
    "\n",
    "Make an instance called restaurant from your class. Print the two attributes individually, and then call both methods.\n",
    "\n",
    "(b)\n",
    "Add an attribute *number_served* with a default value 0.\n",
    "Print the number of customers that has been served, change this value and print it again.\n",
    "\n",
    "(c)\n",
    "Add a method *set_number_served()* that lets to set the number of customers that have been served.\n",
    "\n",
    "(d)\n",
    "Add a method *increment_number_served()* that lets you increment the number of customers who have been served. Call this method with any reasonable number that could represent the number of customers served in a day."
   ]
  },
  {
   "cell_type": "markdown",
   "id": "c322af76",
   "metadata": {},
   "source": [
    "## 4. Inheritance\n",
    "\n",
    "You don’t always have to start from scratch when writing a class. If the class you’re writing is a specialized version of another class you wrote, you can use **inheritance**. \n",
    "\n",
    "When one class inherits from another, it takes on the attributes and methods of the first class. \n",
    "\n",
    "The original class is called the parent class, and the new class is the child class. The child class can inherit any or all of the attributes and methods of its parent class, but it’s also free to define new attributes and methods of its own."
   ]
  },
  {
   "cell_type": "code",
   "execution_count": 27,
   "id": "58bb949a",
   "metadata": {},
   "outputs": [],
   "source": [
    "class Pet:\n",
    "    def __init__(self, name, animal_type, age_in_years, owner_name):\n",
    "        self.name = name\n",
    "        self.type = animal_type\n",
    "        self.age = age_in_years\n",
    "        self.owner = owner_name\n",
    "        \n",
    "    def says(self):\n",
    "        raise NotImplementedError\n",
    "        \n",
    "    def sees_owner(self):\n",
    "        print(f\"{self.name} sees {self.owner}, {self.name} is happy.\")"
   ]
  },
  {
   "cell_type": "code",
   "execution_count": 68,
   "id": "02d56879",
   "metadata": {},
   "outputs": [],
   "source": [
    "class Dog(Pet):\n",
    "    def __init__(self, name, age_in_years, owner_name, color):\n",
    "        super().__init__(name, \"dog\", age_in_years, owner_name)\n",
    "        self.color = color\n",
    "    \n",
    "    def says(self):\n",
    "        return \"Woof! Woof!\"\n",
    "    \n",
    "    def barks(self):\n",
    "        print(\"Woof! Woof!\")\n",
    "    \n",
    "    def sees_owner(self):\n",
    "        print(f\"{self.name} sees {self.owner}, {self.name} is jumping and wagging its tail.\")"
   ]
  },
  {
   "cell_type": "code",
   "execution_count": 69,
   "id": "d47d971d",
   "metadata": {},
   "outputs": [
    {
     "name": "stdout",
     "output_type": "stream",
     "text": [
      "Dog name: Monty\n",
      "Type: dog\n",
      "Age: 3\n",
      "Owner: Linda\n",
      "Monty sees Linda, Monty is jumping and wagging its tail.\n"
     ]
    },
    {
     "data": {
      "text/plain": [
       "'Woof! Woof!'"
      ]
     },
     "execution_count": 69,
     "metadata": {},
     "output_type": "execute_result"
    }
   ],
   "source": [
    "monty = Dog(\"Monty\", 3, \"Linda\")\n",
    "print(\"Dog name:\", monty.name)\n",
    "print(\"Type:\", monty.type)\n",
    "print(\"Age:\", monty.age)\n",
    "print(\"Owner:\", monty.owner)\n",
    "\n",
    "monty.sees_owner()\n",
    "monty.says()"
   ]
  },
  {
   "cell_type": "markdown",
   "id": "810ae5b8",
   "metadata": {},
   "source": [
    "## Exercise 4:\n",
    "\n",
    "Write a class Cat that inherits from the class Pet.\n",
    "\n",
    "Class Cat Attributes:\n",
    "\n",
    "- name;\n",
    "- age;\n",
    "- owner;\n",
    "\n",
    "Class Cat Methods:\n",
    "\n",
    "- says();\n",
    "- purrs();\n",
    "- plays();\n",
    "- sees_owner();\n",
    "\n",
    "After you created a class Cat instance and test the methods and attributes you implemented."
   ]
  },
  {
   "cell_type": "code",
   "execution_count": null,
   "id": "be748871",
   "metadata": {},
   "outputs": [],
   "source": []
  }
 ],
 "metadata": {
  "kernelspec": {
   "display_name": "Python 3 (ipykernel)",
   "language": "python",
   "name": "python3"
  },
  "language_info": {
   "codemirror_mode": {
    "name": "ipython",
    "version": 3
   },
   "file_extension": ".py",
   "mimetype": "text/x-python",
   "name": "python",
   "nbconvert_exporter": "python",
   "pygments_lexer": "ipython3",
   "version": "3.10.9"
  }
 },
 "nbformat": 4,
 "nbformat_minor": 5
}
