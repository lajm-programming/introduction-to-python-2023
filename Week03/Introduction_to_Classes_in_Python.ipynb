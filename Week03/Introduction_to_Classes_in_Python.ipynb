{
 "cells": [
  {
   "cell_type": "markdown",
   "id": "eb99b455",
   "metadata": {},
   "source": [
    "# Introduction to Classes in Python"
   ]
  },
  {
   "cell_type": "markdown",
   "id": "dd8790c0",
   "metadata": {},
   "source": [
    "## Creating Classes"
   ]
  },
  {
   "cell_type": "code",
   "execution_count": 17,
   "id": "ac435c4d",
   "metadata": {},
   "outputs": [],
   "source": [
    "class Dog:\n",
    "    \n",
    "    def __init__(self, name, age_in_years, owner_name):\n",
    "        self.name = name\n",
    "        self.age = age_in_years\n",
    "        self.owner = owner_name\n",
    "        \n",
    "    def says(self):\n",
    "        return \"Woof! Woof!\"\n",
    "        \n",
    "    def barks(self):\n",
    "        print(\"f{self.name} is barking.\")\n",
    "    \n",
    "    def wags_tail(self):\n",
    "        print(f\"{self.name} is wagging its tail.\")\n",
    "        \n",
    "    def sees_owner(self):\n",
    "        print(f\"{self.name} is jumping and wagging its tail.\")"
   ]
  },
  {
   "cell_type": "markdown",
   "id": "e68cb2dd",
   "metadata": {},
   "source": [
    "## Using Classes in Code"
   ]
  },
  {
   "cell_type": "code",
   "execution_count": null,
   "id": "22f1f0f1",
   "metadata": {},
   "outputs": [],
   "source": []
  },
  {
   "cell_type": "markdown",
   "id": "09fff390",
   "metadata": {},
   "source": [
    "## Exercise: Write Class Cat\n",
    "\n",
    "Write a class Cat, create an instance of the class and test its methods and attributes"
   ]
  },
  {
   "cell_type": "markdown",
   "id": "c322af76",
   "metadata": {},
   "source": [
    "## Inheritance"
   ]
  },
  {
   "cell_type": "code",
   "execution_count": 24,
   "id": "58bb949a",
   "metadata": {},
   "outputs": [],
   "source": [
    "class Pet:\n",
    "    def __init__(self, name, animal_type, age_in_years, owner_name):\n",
    "        self.name = name\n",
    "        self.type = animal_type\n",
    "        self.age = age_in_years\n",
    "        self.owner = owner_name\n",
    "        \n",
    "    def says(self):\n",
    "        raise NotImplementedError\n",
    "        \n",
    "    def sees_owner(self):\n",
    "        print(f\"{self.name} sees {self.owner}, {self.name} is happy.\")"
   ]
  }
 ],
 "metadata": {
  "kernelspec": {
   "display_name": "Python 3 (ipykernel)",
   "language": "python",
   "name": "python3"
  },
  "language_info": {
   "codemirror_mode": {
    "name": "ipython",
    "version": 3
   },
   "file_extension": ".py",
   "mimetype": "text/x-python",
   "name": "python",
   "nbconvert_exporter": "python",
   "pygments_lexer": "ipython3",
   "version": "3.10.9"
  }
 },
 "nbformat": 4,
 "nbformat_minor": 5
}
