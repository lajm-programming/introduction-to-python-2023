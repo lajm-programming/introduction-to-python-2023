{
 "cells": [
  {
   "cell_type": "code",
   "execution_count": 7,
   "id": "b714ab1f",
   "metadata": {},
   "outputs": [
    {
     "data": {
      "text/plain": [
       "int"
      ]
     },
     "execution_count": 7,
     "metadata": {},
     "output_type": "execute_result"
    }
   ],
   "source": [
    "a = 10\n",
    "type(a)"
   ]
  },
  {
   "cell_type": "code",
   "execution_count": 20,
   "id": "1718f6ee",
   "metadata": {},
   "outputs": [
    {
     "name": "stdout",
     "output_type": "stream",
     "text": [
      "<class '__main__.Useless'>\n"
     ]
    },
    {
     "data": {
      "text/plain": [
       "['__class__',\n",
       " '__delattr__',\n",
       " '__dict__',\n",
       " '__dir__',\n",
       " '__doc__',\n",
       " '__eq__',\n",
       " '__format__',\n",
       " '__ge__',\n",
       " '__getattribute__',\n",
       " '__getstate__',\n",
       " '__gt__',\n",
       " '__hash__',\n",
       " '__init__',\n",
       " '__init_subclass__',\n",
       " '__le__',\n",
       " '__lt__',\n",
       " '__module__',\n",
       " '__ne__',\n",
       " '__new__',\n",
       " '__reduce__',\n",
       " '__reduce_ex__',\n",
       " '__repr__',\n",
       " '__setattr__',\n",
       " '__sizeof__',\n",
       " '__str__',\n",
       " '__subclasshook__',\n",
       " '__weakref__']"
      ]
     },
     "execution_count": 20,
     "metadata": {},
     "output_type": "execute_result"
    }
   ],
   "source": [
    "class Useless(object):\n",
    "    pass\n",
    "\n",
    "useless_instance = Useless()\n",
    "print(f\"{type(useless_instance)}\")\n",
    "\n",
    "isinstance(useless_instance, object)\n",
    "\n",
    "dir(useless_instance)"
   ]
  },
  {
   "cell_type": "markdown",
   "id": "eb99b455",
   "metadata": {},
   "source": [
    "# Introduction to Classes in Python"
   ]
  },
  {
   "cell_type": "markdown",
   "id": "dd8790c0",
   "metadata": {},
   "source": [
    "## Creating Classes"
   ]
  },
  {
   "cell_type": "code",
   "execution_count": 37,
   "id": "ac435c4d",
   "metadata": {},
   "outputs": [],
   "source": [
    "class Dog:\n",
    "    \n",
    "    def __init__(self, name, age_in_years, owner_name, registration_no=None):\n",
    "        self.name = name\n",
    "        self.age = age_in_years\n",
    "        self.owner = owner_name\n",
    "        self.registration_number = registration_no\n",
    "        \n",
    "    def add_registration(self, number):\n",
    "        self.registration_number = number\n",
    "        \n",
    "    def says(self):\n",
    "        return \"Woof! Woof!\"\n",
    "        \n",
    "    def barks(self):\n",
    "        print(f\"{self.name} is barking.\")\n",
    "    \n",
    "    def wags_tail(self):\n",
    "        print(f\"{self.name} is wagging its tail.\")\n",
    "        \n",
    "    def sees_owner(self):\n",
    "        print(f\"{self.name} is jumping and wagging its tail.\")"
   ]
  },
  {
   "cell_type": "markdown",
   "id": "e68cb2dd",
   "metadata": {},
   "source": [
    "## Using Classes in Code"
   ]
  },
  {
   "cell_type": "code",
   "execution_count": 41,
   "id": "22f1f0f1",
   "metadata": {},
   "outputs": [
    {
     "name": "stdout",
     "output_type": "stream",
     "text": [
      "<class '__main__.Dog'>\n",
      "Dog name: Rocky\n",
      "Dog age: 3\n",
      "Dog owner: Alex\n",
      "Dog reg. no: None\n",
      "Dog reg. no: DOG001\n",
      "Woof! Woof!\n",
      "Woof! Woof!\n"
     ]
    },
    {
     "data": {
      "text/plain": [
       "'Woof! Woof!'"
      ]
     },
     "execution_count": 41,
     "metadata": {},
     "output_type": "execute_result"
    }
   ],
   "source": [
    "rocky = Dog(\"Rocky\", 3, \"Alex\")\n",
    "print(f\"{type(rocky)}\")\n",
    "print(\"Dog name:\", rocky.name)\n",
    "print(\"Dog age:\", rocky.age)\n",
    "print(\"Dog owner:\", rocky.owner)\n",
    "print(\"Dog reg. no:\", rocky.registration_number)\n",
    "\n",
    "rocky.add_registration(\"DOG001\")\n",
    "print(\"Dog reg. no:\", rocky.registration_number)\n",
    "\n",
    "print(rocky.says())\n",
    "result = rocky.says()\n",
    "print(result)\n",
    "rocky.says()\n",
    "\n"
   ]
  },
  {
   "cell_type": "code",
   "execution_count": 32,
   "id": "7f929361",
   "metadata": {},
   "outputs": [
    {
     "name": "stdout",
     "output_type": "stream",
     "text": [
      "Lucky DOG002\n",
      "Toby None\n"
     ]
    }
   ],
   "source": [
    "# Lucky (registered dog)\n",
    "lucky = Dog(\"Lucky\", 5, \"Patrick\", registration_no=\"DOG002\")\n",
    "print(\"Lucky\", lucky.registration_number)\n",
    "\n",
    "# Toby (unregistered dog)\n",
    "toby = Dog(\"Toby\", 0, \"Sandra\")\n",
    "print(\"Toby\", toby.registration_number)"
   ]
  },
  {
   "cell_type": "markdown",
   "id": "09fff390",
   "metadata": {},
   "source": [
    "## Exercise: Write Class Cat\n",
    "\n",
    "Write a class Cat, create an instance of the class and test its methods and attributes"
   ]
  },
  {
   "cell_type": "code",
   "execution_count": null,
   "id": "f7256e98",
   "metadata": {},
   "outputs": [],
   "source": []
  },
  {
   "cell_type": "markdown",
   "id": "c322af76",
   "metadata": {},
   "source": [
    "## Inheritance"
   ]
  },
  {
   "cell_type": "code",
   "execution_count": 44,
   "id": "58bb949a",
   "metadata": {},
   "outputs": [],
   "source": [
    "class Pet:\n",
    "    def __init__(self, name, animal_type, age_in_years, owner_name):\n",
    "        self.name = name\n",
    "        self.type = animal_type\n",
    "        self.age = age_in_years\n",
    "        self.owner = owner_name\n",
    "        \n",
    "    def says(self):\n",
    "        raise NotImplementedError\n",
    "        \n",
    "    def sees_owner(self):\n",
    "        print(f\"{self.name} sees {self.owner}, {self.name} is happy.\")"
   ]
  },
  {
   "cell_type": "code",
   "execution_count": 68,
   "id": "02d56879",
   "metadata": {},
   "outputs": [],
   "source": [
    "class Dog(Pet):\n",
    "    def __init__(self, name, age_in_years, owner_name, color):\n",
    "        super().__init__(name, \"dog\", age_in_years, owner_name)\n",
    "        self.color = color\n",
    "#         self.name = name\n",
    "#         self.type = \"dog\"\n",
    "#         self.age = age_in_years\n",
    "#         self.owner = owner_name\n",
    "    \n",
    "    def says(self):\n",
    "        return \"Woof! Woof!\"\n",
    "    \n",
    "    def barks(self):\n",
    "        print(\"Woof! Woof!\")\n",
    "    \n",
    "    def sees_owner(self):\n",
    "        print(f\"{self.name} sees {self.owner}, {self.name} is jumping and wagging its tail.\")"
   ]
  },
  {
   "cell_type": "code",
   "execution_count": 69,
   "id": "d47d971d",
   "metadata": {},
   "outputs": [
    {
     "name": "stdout",
     "output_type": "stream",
     "text": [
      "Dog name: Monty\n",
      "Type: dog\n",
      "Age: 3\n",
      "Owner: Linda\n",
      "Monty sees Linda, Monty is jumping and wagging its tail.\n"
     ]
    },
    {
     "data": {
      "text/plain": [
       "'Woof! Woof!'"
      ]
     },
     "execution_count": 69,
     "metadata": {},
     "output_type": "execute_result"
    }
   ],
   "source": [
    "monty = Dog(\"Monty\", 3, \"Linda\")\n",
    "print(\"Dog name:\", monty.name)\n",
    "print(\"Type:\", monty.type)\n",
    "print(\"Age:\", monty.age)\n",
    "print(\"Owner:\", monty.owner)\n",
    "\n",
    "monty.sees_owner()\n",
    "monty.says()"
   ]
  },
  {
   "cell_type": "code",
   "execution_count": null,
   "id": "35f1b1eb",
   "metadata": {},
   "outputs": [],
   "source": []
  }
 ],
 "metadata": {
  "kernelspec": {
   "display_name": "Python 3 (ipykernel)",
   "language": "python",
   "name": "python3"
  },
  "language_info": {
   "codemirror_mode": {
    "name": "ipython",
    "version": 3
   },
   "file_extension": ".py",
   "mimetype": "text/x-python",
   "name": "python",
   "nbconvert_exporter": "python",
   "pygments_lexer": "ipython3",
   "version": "3.11.1"
  }
 },
 "nbformat": 4,
 "nbformat_minor": 5
}
