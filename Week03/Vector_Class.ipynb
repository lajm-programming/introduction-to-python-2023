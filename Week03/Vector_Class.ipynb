{
 "cells": [
  {
   "cell_type": "markdown",
   "id": "242c2db5",
   "metadata": {},
   "source": [
    "# 1. Vector Class"
   ]
  },
  {
   "cell_type": "code",
   "execution_count": 4,
   "id": "0e887fcc",
   "metadata": {},
   "outputs": [],
   "source": [
    "import math"
   ]
  },
  {
   "cell_type": "code",
   "execution_count": 17,
   "id": "89126ce6",
   "metadata": {},
   "outputs": [],
   "source": [
    "class Vector:\n",
    "    def __init__(self, coordinates: list[float]):\n",
    "        self.dimension = len(coordinates)\n",
    "        self.coords = []\n",
    "        \n",
    "        for item in coordinates:\n",
    "            self.coords.append(float(item))\n",
    "            \n",
    "            \n",
    "    def __str__(self):\n",
    "        return f\"Vector({self.coords})\"\n",
    "    \n",
    "            \n",
    "    def __eq__(self, other) -> bool:\n",
    "        if not isinstance(other, Vector):\n",
    "            return False\n",
    "        \n",
    "        if not self.dimension == other.dimension:\n",
    "            return False\n",
    "        \n",
    "        for i in range(len(self.coords)):\n",
    "            if self.coords[i] != other.coords[i]:\n",
    "                return False\n",
    "        return True\n",
    "    \n",
    "            \n",
    "    def __add__(self, other):\n",
    "        if not isinstance(other, Vector):\n",
    "            raise TypeError(\"Invalid type. Vector is expected.\")\n",
    "            \n",
    "        if self.dimension != other.dimension:\n",
    "            raise IndexError(\"Dot Product: Vectors must be of the same dimension.\")\n",
    "            \n",
    "        coords = [self.coords[i] + other.coords[i] for i in range(self.dimension)]\n",
    "        return Vector(coords)\n",
    "    \n",
    "    \n",
    "    def __sub__(self, other):\n",
    "        if not isinstance(other, Vector):\n",
    "            raise TypeError(\"Invalid type. Vector is expected.\")\n",
    "            \n",
    "        if self.dimension != other.dimension:\n",
    "            raise IndexError(\"Dot Product: Vectors must be of the same dimension.\")\n",
    "            \n",
    "        coords = [self.coords[i] - other.coords[i] for i in range(self.dimension)]\n",
    "        return Vector(coords)\n",
    "    \n",
    "    \n",
    "    def __mul__(self, scalar):\n",
    "        if isinstance(scalar, int) or isinstance(scalar, float):\n",
    "            return Vector([scalar * x for x in self.coords])\n",
    "        else:\n",
    "            raise TypeError(\"Invalid data type. Integer or float expected.\")\n",
    "            \n",
    "    def __rmul__(self, scalar):\n",
    "        if isinstance(scalar, int) or isinstance(scalar, float):\n",
    "            return Vector([scalar * x for x in self.coords])\n",
    "        else:\n",
    "            raise TypeError(\"Invalid data type. Integer or float expected.\")\n",
    "            \n",
    "    \n",
    "    def length(self):\n",
    "        return math.sqrt(sum([x**2 for x in self.coords]))\n",
    "    \n",
    "    \n",
    "    def dot_product(self, other) -> float:\n",
    "        if not isinstance(other, Vector):\n",
    "            raise TypeError(\"Invalid type. Vector is expected.\")\n",
    "        if self.dimension != other.dimension:\n",
    "            raise IndexError(\"Dot Product: Vectors must be of the same dimension.\")\n",
    "            \n",
    "        sum = 0\n",
    "        \n",
    "        for i in range(len(self.coords)):\n",
    "            sum += self.coords[i] * other.coords[i]\n",
    "            \n",
    "        return sum\n",
    "            "
   ]
  },
  {
   "cell_type": "markdown",
   "id": "830d1445",
   "metadata": {},
   "source": [
    "## 1.1 Creating a Vector"
   ]
  },
  {
   "cell_type": "code",
   "execution_count": null,
   "id": "02f28c21",
   "metadata": {},
   "outputs": [],
   "source": []
  },
  {
   "cell_type": "markdown",
   "id": "04f0354a",
   "metadata": {},
   "source": [
    "## 1.1 Comparing Two Vectors"
   ]
  },
  {
   "cell_type": "code",
   "execution_count": null,
   "id": "ade278a4",
   "metadata": {},
   "outputs": [],
   "source": []
  },
  {
   "cell_type": "markdown",
   "id": "5da6f384",
   "metadata": {},
   "source": [
    "## 1.2 Vector Addition"
   ]
  },
  {
   "cell_type": "code",
   "execution_count": null,
   "id": "d870d9d1",
   "metadata": {},
   "outputs": [],
   "source": []
  },
  {
   "cell_type": "markdown",
   "id": "0436d879",
   "metadata": {},
   "source": [
    "## 1.3 Vector Subtraction"
   ]
  },
  {
   "cell_type": "code",
   "execution_count": null,
   "id": "79508078",
   "metadata": {},
   "outputs": [],
   "source": []
  },
  {
   "cell_type": "markdown",
   "id": "0c9808db",
   "metadata": {},
   "source": [
    "## 1.4 Vector Multiplication by Scalar"
   ]
  },
  {
   "cell_type": "code",
   "execution_count": null,
   "id": "869012e0",
   "metadata": {},
   "outputs": [],
   "source": []
  },
  {
   "cell_type": "markdown",
   "id": "69704502",
   "metadata": {},
   "source": [
    "## 1.5 Linear Combination of Vectors"
   ]
  },
  {
   "cell_type": "code",
   "execution_count": null,
   "id": "ca5513a5",
   "metadata": {},
   "outputs": [],
   "source": []
  },
  {
   "cell_type": "markdown",
   "id": "a697c3d6",
   "metadata": {},
   "source": [
    "## 1.6 Dot Product"
   ]
  },
  {
   "cell_type": "code",
   "execution_count": null,
   "id": "533eb968",
   "metadata": {},
   "outputs": [],
   "source": []
  }
 ],
 "metadata": {
  "kernelspec": {
   "display_name": "Python 3 (ipykernel)",
   "language": "python",
   "name": "python3"
  },
  "language_info": {
   "codemirror_mode": {
    "name": "ipython",
    "version": 3
   },
   "file_extension": ".py",
   "mimetype": "text/x-python",
   "name": "python",
   "nbconvert_exporter": "python",
   "pygments_lexer": "ipython3",
   "version": "3.10.9"
  }
 },
 "nbformat": 4,
 "nbformat_minor": 5
}
